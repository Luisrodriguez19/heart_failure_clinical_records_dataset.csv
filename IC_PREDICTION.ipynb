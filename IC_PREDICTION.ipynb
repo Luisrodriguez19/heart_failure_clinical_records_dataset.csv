{
  "nbformat": 4,
  "nbformat_minor": 0,
  "metadata": {
    "colab": {
      "name": "Untitled0.ipynb",
      "provenance": [],
      "collapsed_sections": [],
      "authorship_tag": "ABX9TyPLNcnz/oZoZYZLcfXM09yF",
      "include_colab_link": true
    },
    "kernelspec": {
      "name": "python3",
      "display_name": "Python 3"
    }
  },
  "cells": [
    {
      "cell_type": "markdown",
      "metadata": {
        "id": "view-in-github",
        "colab_type": "text"
      },
      "source": [
        "<a href=\"https://colab.research.google.com/github/Luisrodriguez19/heart_failure_clinical_records_dataset.csv/blob/main/IC_PREDICTION.ipynb\" target=\"_parent\"><img src=\"https://colab.research.google.com/assets/colab-badge.svg\" alt=\"Open In Colab\"/></a>"
      ]
    },
    {
      "cell_type": "markdown",
      "metadata": {
        "id": "0N67-DSabbW5"
      },
      "source": [
        "# **IMPORTAMOS LA BASE DE DATOS DESDE GIT HUB**\n"
      ]
    },
    {
      "cell_type": "code",
      "metadata": {
        "colab": {
          "base_uri": "https://localhost:8080/"
        },
        "id": "5Ucv1JnIaB9u",
        "outputId": "f1835582-a634-4f2e-b7f7-4af40b6df3fe"
      },
      "source": [
        "import numpy as np\n",
        "import matplotlib.pyplot as plt\n",
        "import pandas as pd\n",
        "url='https://raw.githubusercontent.com/Luisrodriguez19/heart_failure_clinical_records_dataset.csv/main/BD.csv'\n",
        "df=pd.read_csv(url)\n",
        "print (df.head(12))\n",
        "\"\"\"\n",
        "Si hay valores vacios los remplazamos\"\"\"\n",
        "dataset = df.replace(np.nan,\"0\")\n"
      ],
      "execution_count": null,
      "outputs": [
        {
          "output_type": "stream",
          "text": [
            "     age  anaemia  creatinine_phosphokinase  ...  smoking  time  DEATH_EVENT\n",
            "0   75.0        0                       582  ...        0     4            1\n",
            "1   55.0        0                      7861  ...        0     6            1\n",
            "2   65.0        0                       146  ...        1     7            1\n",
            "3   50.0        1                       111  ...        0     7            1\n",
            "4   65.0        1                       160  ...        0     8            1\n",
            "5   90.0        1                        47  ...        1     8            1\n",
            "6   75.0        1                       246  ...        0    10            1\n",
            "7   60.0        1                       315  ...        1    10            1\n",
            "8   65.0        0                       157  ...        0    10            1\n",
            "9   80.0        1                       123  ...        1    10            1\n",
            "10  75.0        1                        81  ...        1    10            1\n",
            "11  62.0        0                       231  ...        1    10            1\n",
            "\n",
            "[12 rows x 13 columns]\n"
          ],
          "name": "stdout"
        }
      ]
    },
    {
      "cell_type": "markdown",
      "metadata": {
        "id": "R1HDbtcWbqNT"
      },
      "source": [
        "# **Convertimos el dataframe en un arreglo**"
      ]
    },
    {
      "cell_type": "code",
      "metadata": {
        "colab": {
          "base_uri": "https://localhost:8080/"
        },
        "id": "kz1XP90qbQvz",
        "outputId": "52b8449e-d46c-41af-e29f-3eb6b64fc21a"
      },
      "source": [
        "dataset = df.values\n",
        "print (dataset.shape)"
      ],
      "execution_count": null,
      "outputs": [
        {
          "output_type": "stream",
          "text": [
            "(299, 13)\n"
          ],
          "name": "stdout"
        }
      ]
    },
    {
      "cell_type": "code",
      "metadata": {
        "id": "dy0Fcs3To0ZU"
      },
      "source": [
        "#Definimos las entradas a la red neuronal\"\"\"\n",
        "#X=dataset[['anaemia','creatinine_phosphokinase','diabetes','ejection_fraction','high_blood_pressure','platelets','serum_creatinine','serum_sodium','sex','smoking','time']]\n",
        "\"\"\"#Variable dependiente\"\"\"\n",
        "X = dataset[:, 0:12]\n",
        "Y = dataset[:, 12]"
      ],
      "execution_count": null,
      "outputs": []
    },
    {
      "cell_type": "code",
      "metadata": {
        "id": "FqYKqNlkpjtZ",
        "colab": {
          "base_uri": "https://localhost:8080/"
        },
        "outputId": "157e4e68-b7e7-42c4-b334-f0695d3950da"
      },
      "source": [
        "from sklearn import preprocessing\n",
        "min_max_scaler = preprocessing.MinMaxScaler()\n",
        "X_scale = min_max_scaler.fit_transform(X)\n",
        "X_scale\n",
        "\n"
      ],
      "execution_count": null,
      "outputs": [
        {
          "output_type": "execute_result",
          "data": {
            "text/plain": [
              "array([[0.63636364, 0.        , 0.07131921, ..., 1.        , 0.        ,\n",
              "        0.        ],\n",
              "       [0.27272727, 0.        , 1.        , ..., 1.        , 0.        ,\n",
              "        0.00711744],\n",
              "       [0.45454545, 0.        , 0.01569278, ..., 1.        , 1.        ,\n",
              "        0.01067616],\n",
              "       ...,\n",
              "       [0.09090909, 0.        , 0.25988773, ..., 0.        , 0.        ,\n",
              "        0.97508897],\n",
              "       [0.09090909, 0.        , 0.30492473, ..., 1.        , 1.        ,\n",
              "        0.98220641],\n",
              "       [0.18181818, 0.        , 0.02207196, ..., 1.        , 1.        ,\n",
              "        1.        ]])"
            ]
          },
          "metadata": {
            "tags": []
          },
          "execution_count": 4
        }
      ]
    },
    {
      "cell_type": "code",
      "metadata": {
        "colab": {
          "base_uri": "https://localhost:8080/",
          "height": 542
        },
        "id": "_p7GQtALA-ZO",
        "outputId": "98c3cef1-b41e-452d-8115-1ec49a1dc34e"
      },
      "source": [
        "import plotly.express as px\n",
        "import numpy as np\n",
        "x = np.arange(len(X_scale))\n",
        "y = X_scale[:,2]\n",
        "fig = px.line(x=x, y=y,title='Distribución')\n",
        "fig.show()"
      ],
      "execution_count": null,
      "outputs": [
        {
          "output_type": "display_data",
          "data": {
            "text/html": [
              "<html>\n",
              "<head><meta charset=\"utf-8\" /></head>\n",
              "<body>\n",
              "    <div>\n",
              "            <script src=\"https://cdnjs.cloudflare.com/ajax/libs/mathjax/2.7.5/MathJax.js?config=TeX-AMS-MML_SVG\"></script><script type=\"text/javascript\">if (window.MathJax) {MathJax.Hub.Config({SVG: {font: \"STIX-Web\"}});}</script>\n",
              "                <script type=\"text/javascript\">window.PlotlyConfig = {MathJaxConfig: 'local'};</script>\n",
              "        <script src=\"https://cdn.plot.ly/plotly-latest.min.js\"></script>    \n",
              "            <div id=\"62d0d660-66a6-48b7-a483-d1868c2f3f3d\" class=\"plotly-graph-div\" style=\"height:525px; width:100%;\"></div>\n",
              "            <script type=\"text/javascript\">\n",
              "                \n",
              "                    window.PLOTLYENV=window.PLOTLYENV || {};\n",
              "                    \n",
              "                if (document.getElementById(\"62d0d660-66a6-48b7-a483-d1868c2f3f3d\")) {\n",
              "                    Plotly.newPlot(\n",
              "                        '62d0d660-66a6-48b7-a483-d1868c2f3f3d',\n",
              "                        [{\"hoverlabel\": {\"namelength\": 0}, \"hovertemplate\": \"x=%{x}<br>y=%{y}\", \"legendgroup\": \"\", \"line\": {\"color\": \"#636efa\", \"dash\": \"solid\"}, \"mode\": \"lines\", \"name\": \"\", \"showlegend\": false, \"type\": \"scatter\", \"x\": [0, 1, 2, 3, 4, 5, 6, 7, 8, 9, 10, 11, 12, 13, 14, 15, 16, 17, 18, 19, 20, 21, 22, 23, 24, 25, 26, 27, 28, 29, 30, 31, 32, 33, 34, 35, 36, 37, 38, 39, 40, 41, 42, 43, 44, 45, 46, 47, 48, 49, 50, 51, 52, 53, 54, 55, 56, 57, 58, 59, 60, 61, 62, 63, 64, 65, 66, 67, 68, 69, 70, 71, 72, 73, 74, 75, 76, 77, 78, 79, 80, 81, 82, 83, 84, 85, 86, 87, 88, 89, 90, 91, 92, 93, 94, 95, 96, 97, 98, 99, 100, 101, 102, 103, 104, 105, 106, 107, 108, 109, 110, 111, 112, 113, 114, 115, 116, 117, 118, 119, 120, 121, 122, 123, 124, 125, 126, 127, 128, 129, 130, 131, 132, 133, 134, 135, 136, 137, 138, 139, 140, 141, 142, 143, 144, 145, 146, 147, 148, 149, 150, 151, 152, 153, 154, 155, 156, 157, 158, 159, 160, 161, 162, 163, 164, 165, 166, 167, 168, 169, 170, 171, 172, 173, 174, 175, 176, 177, 178, 179, 180, 181, 182, 183, 184, 185, 186, 187, 188, 189, 190, 191, 192, 193, 194, 195, 196, 197, 198, 199, 200, 201, 202, 203, 204, 205, 206, 207, 208, 209, 210, 211, 212, 213, 214, 215, 216, 217, 218, 219, 220, 221, 222, 223, 224, 225, 226, 227, 228, 229, 230, 231, 232, 233, 234, 235, 236, 237, 238, 239, 240, 241, 242, 243, 244, 245, 246, 247, 248, 249, 250, 251, 252, 253, 254, 255, 256, 257, 258, 259, 260, 261, 262, 263, 264, 265, 266, 267, 268, 269, 270, 271, 272, 273, 274, 275, 276, 277, 278, 279, 280, 281, 282, 283, 284, 285, 286, 287, 288, 289, 290, 291, 292, 293, 294, 295, 296, 297, 298], \"xaxis\": \"x\", \"y\": [0.07131921408522582, 1.0, 0.01569277877009441, 0.011227353916815513, 0.01747894871140597, 0.0030620056136769587, 0.0284511354937484, 0.03725440163306966, 0.017096198009696348, 0.012758356723653991, 0.007399846899719316, 0.026537381985200302, 0.12222505741260527, 0.018499617249298286, 0.007272263332482777, 0.04541974993620821, 0.01607552947180403, 0.07131921408522582, 0.013013523858127074, 0.07131921408522582, 0.003699923449859658, 0.013396274559836692, 0.025133962745598364, 0.0051033426894615975, 0.07131921408522582, 0.01594794590456749, 0.011354937484052053, 0.012630773156417453, 0.004720591987751977, 0.005996427660117376, 0.07131921408522582, 0.0, 0.02883388619545802, 0.017351365144169427, 0.009058433273794336, 0.07131921408522582, 0.004720591987751977, 0.10614952794080122, 0.33592753253380964, 0.027047716254146467, 0.07131921408522582, 0.012885940290890534, 0.06991579484562388, 0.013268690992600153, 0.07208471548864506, 0.07131921408522582, 0.17313090073998466, 0.07131921408522582, 0.06761929063536616, 0.013523858127073232, 0.07068129624904312, 0.008675682572084715, 0.5028068384792038, 0.0058688440928808365, 0.03023730543505996, 0.044399081398315894, 0.0066343454963000755, 0.07450880326613932, 0.09772901250318959, 0.043505996427660114, 0.9797142128093901, 0.037637152334779274, 0.010972186782342434, 0.07131921408522582, 0.07131921408522582, 0.005741260525644297, 0.028961469762694564, 0.011099770349578974, 0.017606532278642513, 0.011482521051288594, 0.01594794590456749, 0.07131921408522582, 0.7475121204388874, 0.025644297014544522, 0.07131921408522582, 0.0030620056136769587, 0.008803266139321255, 0.010079101811686654, 0.022965042102577188, 0.03993365654503699, 0.0058688440928808365, 0.07131921408522582, 0.006761929063536617, 0.004082674151569278, 0.03278897677979076, 0.007017096198009696, 0.0030620056136769587, 0.005741260525644297, 0.007782597601428935, 0.011737688185761673, 0.005486093391171216, 0.1115080377647359, 0.07131921408522582, 0.016713447307986733, 0.015437611635621332, 0.014034192396019394, 0.06264353151314112, 0.0045930084205154376, 0.016968614442459812, 0.0048481755549885175, 0.035978565960704256, 0.07131921408522582, 0.11163562133197244, 0.661648379688696, 0.0038275070170961977, 0.038912988007144676, 0.09249808624649145, 0.23641235008930847, 0.11648379688696096, 0.03431997958662924, 0.013523858127073232, 0.004720591987751977, 0.044143914263842815, 0.015310028068384792, 0.09326358764991069, 0.04809900484817555, 0.009313600408267415, 0.010079101811686654, 0.011482521051288594, 0.07131921408522582, 0.09109466700688951, 0.005741260525644297, 0.009313600408267415, 0.07131921408522582, 0.07131921408522582, 0.04274049502424088, 0.018499617249298286, 0.022582291400867566, 0.028706302628221485, 0.03151314110742536, 0.22773666751722377, 0.13511099770349577, 0.08879816279663179, 0.021689206430211785, 0.5762949732074508, 0.07131921408522582, 0.0045930084205154376, 0.07948456238836438, 0.0329165603470273, 0.1945649400357234, 0.09977034957897422, 0.034192396019392696, 0.05856085736157182, 0.007782597601428935, 0.11737688185761674, 0.02066853789231947, 0.01390660882878285, 0.20247512120438885, 0.07131921408522582, 0.2855320234753764, 0.02679254911967338, 0.0008930849706557794, 0.011737688185761673, 0.23258484307221228, 0.03980607297780046, 0.026537381985200302, 0.004465424853278897, 0.028961469762694564, 0.11316662413881091, 0.013523858127073232, 0.006251594794590457, 0.013651441694309771, 0.07131921408522582, 0.29484562388364377, 0.3086246491451901, 0.09607042612911457, 0.022071957131921408, 0.005486093391171216, 0.07131921408522582, 0.10359785659607043, 0.07131921408522582, 0.5030620056136769, 0.01888236795100791, 0.011737688185761673, 0.022327124266394487, 0.009186016841030875, 0.17810665986220972, 0.0058688440928808365, 0.012630773156417453, 0.10359785659607043, 0.058050523092625664, 0.01952028578719061, 0.04746108701199285, 0.009696351109977035, 0.015565195202857872, 0.010334268946159735, 0.07131921408522582, 0.23896402143403928, 0.01633069660627711, 0.028195968359275327, 0.07131921408522582, 0.004975759122225058, 0.012503189589180912, 0.026537381985200302, 0.07131921408522582, 0.05039550905843327, 0.07131921408522582, 0.01837203368206175, 0.07131921408522582, 0.1515692778770094, 0.22250574126052564, 0.03636131666241388, 0.009441183975503954, 0.0045930084205154376, 0.005230926256698137, 0.01837203368206175, 0.009951518244450114, 0.024113294207706047, 0.28808369482010715, 0.1210768053074764, 0.024113294207706047, 0.07131921408522582, 0.025644297014544522, 0.013779025261546311, 0.014289359530492473, 0.07131921408522582, 0.15042102577188057, 0.05154376116356213, 0.12732840010206684, 0.07131921408522582, 0.07131921408522582, 0.012120438887471293, 0.008037764735902016, 0.07131921408522582, 0.07131921408522582, 0.08318448583822403, 0.004337841286042358, 0.35353406481245214, 0.004210257718805817, 0.023985710640469504, 0.018244450114825207, 0.008930849706557794, 0.013523858127073232, 0.08726715998979331, 0.07131921408522582, 0.010972186782342434, 0.012248022454707833, 0.026664965552436845, 0.08892574636386834, 0.020030620056136768, 0.007399846899719316, 0.07131921408522582, 0.008548099004848176, 0.1482521051288594, 0.07131921408522582, 0.007272263332482777, 0.2544016330696606, 0.015310028068384792, 0.0766777239091605, 0.023475376371523346, 0.3188313345241133, 0.07004337841286043, 0.028323551926511863, 0.008292931870375095, 0.053967848941056384, 0.021434039295738706, 0.0386578208726716, 0.01390660882878285, 0.005486093391171216, 0.004210257718805817, 0.005486093391171216, 0.08063281449349324, 0.02998213830058688, 0.017096198009696348, 0.07131921408522582, 0.035085480990048476, 0.15003827507017095, 0.014289359530492473, 0.07131921408522582, 0.07131921408522582, 0.07131921408522582, 0.07131921408522582, 0.024240877774942583, 0.005230926256698137, 0.029854554733350344, 0.07131921408522582, 0.07591222250574126, 0.07131921408522582, 0.13115590711916303, 0.007782597601428935, 0.3409032916560347, 0.07131921408522582, 0.005230926256698137, 0.21242663944883897, 0.003955090584332738, 0.018754784383771372, 0.02934422046440418, 0.07131921408522582, 0.1108701199285532, 0.040061240112273536, 0.07552947180403165, 0.03789231946925236, 0.02130645572850217, 0.010206685378923195, 0.0048481755549885175, 0.22926767032406223, 0.25988772646083186, 0.30492472569533047, 0.022071957131921408], \"yaxis\": \"y\"}],\n",
              "                        {\"legend\": {\"tracegroupgap\": 0}, \"template\": {\"data\": {\"bar\": [{\"error_x\": {\"color\": \"#2a3f5f\"}, \"error_y\": {\"color\": \"#2a3f5f\"}, \"marker\": {\"line\": {\"color\": \"#E5ECF6\", \"width\": 0.5}}, \"type\": \"bar\"}], \"barpolar\": [{\"marker\": {\"line\": {\"color\": \"#E5ECF6\", \"width\": 0.5}}, \"type\": \"barpolar\"}], \"carpet\": [{\"aaxis\": {\"endlinecolor\": \"#2a3f5f\", \"gridcolor\": \"white\", \"linecolor\": \"white\", \"minorgridcolor\": \"white\", \"startlinecolor\": \"#2a3f5f\"}, \"baxis\": {\"endlinecolor\": \"#2a3f5f\", \"gridcolor\": \"white\", \"linecolor\": \"white\", \"minorgridcolor\": \"white\", \"startlinecolor\": \"#2a3f5f\"}, \"type\": \"carpet\"}], \"choropleth\": [{\"colorbar\": {\"outlinewidth\": 0, \"ticks\": \"\"}, \"type\": \"choropleth\"}], \"contour\": [{\"colorbar\": {\"outlinewidth\": 0, \"ticks\": \"\"}, \"colorscale\": [[0.0, \"#0d0887\"], [0.1111111111111111, \"#46039f\"], [0.2222222222222222, \"#7201a8\"], [0.3333333333333333, \"#9c179e\"], [0.4444444444444444, \"#bd3786\"], [0.5555555555555556, \"#d8576b\"], [0.6666666666666666, \"#ed7953\"], [0.7777777777777778, \"#fb9f3a\"], [0.8888888888888888, \"#fdca26\"], [1.0, \"#f0f921\"]], \"type\": \"contour\"}], \"contourcarpet\": [{\"colorbar\": {\"outlinewidth\": 0, \"ticks\": \"\"}, \"type\": \"contourcarpet\"}], \"heatmap\": [{\"colorbar\": {\"outlinewidth\": 0, \"ticks\": \"\"}, \"colorscale\": [[0.0, \"#0d0887\"], [0.1111111111111111, \"#46039f\"], [0.2222222222222222, \"#7201a8\"], [0.3333333333333333, \"#9c179e\"], [0.4444444444444444, \"#bd3786\"], [0.5555555555555556, \"#d8576b\"], [0.6666666666666666, \"#ed7953\"], [0.7777777777777778, \"#fb9f3a\"], [0.8888888888888888, \"#fdca26\"], [1.0, \"#f0f921\"]], \"type\": \"heatmap\"}], \"heatmapgl\": [{\"colorbar\": {\"outlinewidth\": 0, \"ticks\": \"\"}, \"colorscale\": [[0.0, \"#0d0887\"], [0.1111111111111111, \"#46039f\"], [0.2222222222222222, \"#7201a8\"], [0.3333333333333333, \"#9c179e\"], [0.4444444444444444, \"#bd3786\"], [0.5555555555555556, \"#d8576b\"], [0.6666666666666666, \"#ed7953\"], [0.7777777777777778, \"#fb9f3a\"], [0.8888888888888888, \"#fdca26\"], [1.0, \"#f0f921\"]], \"type\": \"heatmapgl\"}], \"histogram\": [{\"marker\": {\"colorbar\": {\"outlinewidth\": 0, \"ticks\": \"\"}}, \"type\": \"histogram\"}], \"histogram2d\": [{\"colorbar\": {\"outlinewidth\": 0, \"ticks\": \"\"}, \"colorscale\": [[0.0, \"#0d0887\"], [0.1111111111111111, \"#46039f\"], [0.2222222222222222, \"#7201a8\"], [0.3333333333333333, \"#9c179e\"], [0.4444444444444444, \"#bd3786\"], [0.5555555555555556, \"#d8576b\"], [0.6666666666666666, \"#ed7953\"], [0.7777777777777778, \"#fb9f3a\"], [0.8888888888888888, \"#fdca26\"], [1.0, \"#f0f921\"]], \"type\": \"histogram2d\"}], \"histogram2dcontour\": [{\"colorbar\": {\"outlinewidth\": 0, \"ticks\": \"\"}, \"colorscale\": [[0.0, \"#0d0887\"], [0.1111111111111111, \"#46039f\"], [0.2222222222222222, \"#7201a8\"], [0.3333333333333333, \"#9c179e\"], [0.4444444444444444, \"#bd3786\"], [0.5555555555555556, \"#d8576b\"], [0.6666666666666666, \"#ed7953\"], [0.7777777777777778, \"#fb9f3a\"], [0.8888888888888888, \"#fdca26\"], [1.0, \"#f0f921\"]], \"type\": \"histogram2dcontour\"}], \"mesh3d\": [{\"colorbar\": {\"outlinewidth\": 0, \"ticks\": \"\"}, \"type\": \"mesh3d\"}], \"parcoords\": [{\"line\": {\"colorbar\": {\"outlinewidth\": 0, \"ticks\": \"\"}}, \"type\": \"parcoords\"}], \"pie\": [{\"automargin\": true, \"type\": \"pie\"}], \"scatter\": [{\"marker\": {\"colorbar\": {\"outlinewidth\": 0, \"ticks\": \"\"}}, \"type\": \"scatter\"}], \"scatter3d\": [{\"line\": {\"colorbar\": {\"outlinewidth\": 0, \"ticks\": \"\"}}, \"marker\": {\"colorbar\": {\"outlinewidth\": 0, \"ticks\": \"\"}}, \"type\": \"scatter3d\"}], \"scattercarpet\": [{\"marker\": {\"colorbar\": {\"outlinewidth\": 0, \"ticks\": \"\"}}, \"type\": \"scattercarpet\"}], \"scattergeo\": [{\"marker\": {\"colorbar\": {\"outlinewidth\": 0, \"ticks\": \"\"}}, \"type\": \"scattergeo\"}], \"scattergl\": [{\"marker\": {\"colorbar\": {\"outlinewidth\": 0, \"ticks\": \"\"}}, \"type\": \"scattergl\"}], \"scattermapbox\": [{\"marker\": {\"colorbar\": {\"outlinewidth\": 0, \"ticks\": \"\"}}, \"type\": \"scattermapbox\"}], \"scatterpolar\": [{\"marker\": {\"colorbar\": {\"outlinewidth\": 0, \"ticks\": \"\"}}, \"type\": \"scatterpolar\"}], \"scatterpolargl\": [{\"marker\": {\"colorbar\": {\"outlinewidth\": 0, \"ticks\": \"\"}}, \"type\": \"scatterpolargl\"}], \"scatterternary\": [{\"marker\": {\"colorbar\": {\"outlinewidth\": 0, \"ticks\": \"\"}}, \"type\": \"scatterternary\"}], \"surface\": [{\"colorbar\": {\"outlinewidth\": 0, \"ticks\": \"\"}, \"colorscale\": [[0.0, \"#0d0887\"], [0.1111111111111111, \"#46039f\"], [0.2222222222222222, \"#7201a8\"], [0.3333333333333333, \"#9c179e\"], [0.4444444444444444, \"#bd3786\"], [0.5555555555555556, \"#d8576b\"], [0.6666666666666666, \"#ed7953\"], [0.7777777777777778, \"#fb9f3a\"], [0.8888888888888888, \"#fdca26\"], [1.0, \"#f0f921\"]], \"type\": \"surface\"}], \"table\": [{\"cells\": {\"fill\": {\"color\": \"#EBF0F8\"}, \"line\": {\"color\": \"white\"}}, \"header\": {\"fill\": {\"color\": \"#C8D4E3\"}, \"line\": {\"color\": \"white\"}}, \"type\": \"table\"}]}, \"layout\": {\"annotationdefaults\": {\"arrowcolor\": \"#2a3f5f\", \"arrowhead\": 0, \"arrowwidth\": 1}, \"coloraxis\": {\"colorbar\": {\"outlinewidth\": 0, \"ticks\": \"\"}}, \"colorscale\": {\"diverging\": [[0, \"#8e0152\"], [0.1, \"#c51b7d\"], [0.2, \"#de77ae\"], [0.3, \"#f1b6da\"], [0.4, \"#fde0ef\"], [0.5, \"#f7f7f7\"], [0.6, \"#e6f5d0\"], [0.7, \"#b8e186\"], [0.8, \"#7fbc41\"], [0.9, \"#4d9221\"], [1, \"#276419\"]], \"sequential\": [[0.0, \"#0d0887\"], [0.1111111111111111, \"#46039f\"], [0.2222222222222222, \"#7201a8\"], [0.3333333333333333, \"#9c179e\"], [0.4444444444444444, \"#bd3786\"], [0.5555555555555556, \"#d8576b\"], [0.6666666666666666, \"#ed7953\"], [0.7777777777777778, \"#fb9f3a\"], [0.8888888888888888, \"#fdca26\"], [1.0, \"#f0f921\"]], \"sequentialminus\": [[0.0, \"#0d0887\"], [0.1111111111111111, \"#46039f\"], [0.2222222222222222, \"#7201a8\"], [0.3333333333333333, \"#9c179e\"], [0.4444444444444444, \"#bd3786\"], [0.5555555555555556, \"#d8576b\"], [0.6666666666666666, \"#ed7953\"], [0.7777777777777778, \"#fb9f3a\"], [0.8888888888888888, \"#fdca26\"], [1.0, \"#f0f921\"]]}, \"colorway\": [\"#636efa\", \"#EF553B\", \"#00cc96\", \"#ab63fa\", \"#FFA15A\", \"#19d3f3\", \"#FF6692\", \"#B6E880\", \"#FF97FF\", \"#FECB52\"], \"font\": {\"color\": \"#2a3f5f\"}, \"geo\": {\"bgcolor\": \"white\", \"lakecolor\": \"white\", \"landcolor\": \"#E5ECF6\", \"showlakes\": true, \"showland\": true, \"subunitcolor\": \"white\"}, \"hoverlabel\": {\"align\": \"left\"}, \"hovermode\": \"closest\", \"mapbox\": {\"style\": \"light\"}, \"paper_bgcolor\": \"white\", \"plot_bgcolor\": \"#E5ECF6\", \"polar\": {\"angularaxis\": {\"gridcolor\": \"white\", \"linecolor\": \"white\", \"ticks\": \"\"}, \"bgcolor\": \"#E5ECF6\", \"radialaxis\": {\"gridcolor\": \"white\", \"linecolor\": \"white\", \"ticks\": \"\"}}, \"scene\": {\"xaxis\": {\"backgroundcolor\": \"#E5ECF6\", \"gridcolor\": \"white\", \"gridwidth\": 2, \"linecolor\": \"white\", \"showbackground\": true, \"ticks\": \"\", \"zerolinecolor\": \"white\"}, \"yaxis\": {\"backgroundcolor\": \"#E5ECF6\", \"gridcolor\": \"white\", \"gridwidth\": 2, \"linecolor\": \"white\", \"showbackground\": true, \"ticks\": \"\", \"zerolinecolor\": \"white\"}, \"zaxis\": {\"backgroundcolor\": \"#E5ECF6\", \"gridcolor\": \"white\", \"gridwidth\": 2, \"linecolor\": \"white\", \"showbackground\": true, \"ticks\": \"\", \"zerolinecolor\": \"white\"}}, \"shapedefaults\": {\"line\": {\"color\": \"#2a3f5f\"}}, \"ternary\": {\"aaxis\": {\"gridcolor\": \"white\", \"linecolor\": \"white\", \"ticks\": \"\"}, \"baxis\": {\"gridcolor\": \"white\", \"linecolor\": \"white\", \"ticks\": \"\"}, \"bgcolor\": \"#E5ECF6\", \"caxis\": {\"gridcolor\": \"white\", \"linecolor\": \"white\", \"ticks\": \"\"}}, \"title\": {\"x\": 0.05}, \"xaxis\": {\"automargin\": true, \"gridcolor\": \"white\", \"linecolor\": \"white\", \"ticks\": \"\", \"title\": {\"standoff\": 15}, \"zerolinecolor\": \"white\", \"zerolinewidth\": 2}, \"yaxis\": {\"automargin\": true, \"gridcolor\": \"white\", \"linecolor\": \"white\", \"ticks\": \"\", \"title\": {\"standoff\": 15}, \"zerolinecolor\": \"white\", \"zerolinewidth\": 2}}}, \"title\": {\"text\": \"Distribuci\\u00f3n\"}, \"xaxis\": {\"anchor\": \"y\", \"domain\": [0.0, 1.0], \"title\": {\"text\": \"x\"}}, \"yaxis\": {\"anchor\": \"x\", \"domain\": [0.0, 1.0], \"title\": {\"text\": \"y\"}}},\n",
              "                        {\"responsive\": true}\n",
              "                    ).then(function(){\n",
              "                            \n",
              "var gd = document.getElementById('62d0d660-66a6-48b7-a483-d1868c2f3f3d');\n",
              "var x = new MutationObserver(function (mutations, observer) {{\n",
              "        var display = window.getComputedStyle(gd).display;\n",
              "        if (!display || display === 'none') {{\n",
              "            console.log([gd, 'removed!']);\n",
              "            Plotly.purge(gd);\n",
              "            observer.disconnect();\n",
              "        }}\n",
              "}});\n",
              "\n",
              "// Listen for the removal of the full notebook cells\n",
              "var notebookContainer = gd.closest('#notebook-container');\n",
              "if (notebookContainer) {{\n",
              "    x.observe(notebookContainer, {childList: true});\n",
              "}}\n",
              "\n",
              "// Listen for the clearing of the current output cell\n",
              "var outputEl = gd.closest('.output');\n",
              "if (outputEl) {{\n",
              "    x.observe(outputEl, {childList: true});\n",
              "}}\n",
              "\n",
              "                        })\n",
              "                };\n",
              "                \n",
              "            </script>\n",
              "        </div>\n",
              "</body>\n",
              "</html>"
            ]
          },
          "metadata": {
            "tags": []
          }
        }
      ]
    },
    {
      "cell_type": "markdown",
      "metadata": {
        "id": "URdlR5bKSFtf"
      },
      "source": [
        "## **Datos para el entrenamiento**"
      ]
    },
    {
      "cell_type": "code",
      "metadata": {
        "id": "wCW0oOjKBzOB",
        "colab": {
          "base_uri": "https://localhost:8080/"
        },
        "outputId": "b54e2b5f-96ec-4e15-eba2-4ade946868aa"
      },
      "source": [
        " import numpy as np\n",
        " from sklearn.model_selection import train_test_split\n",
        " X, y = np.arange(20).reshape((10,2)), np.arange(10)\n",
        " print(\"X: \", len(X))\n",
        " print(X)\n",
        " print(\"y: \",len(y))\n",
        " print(y)"
      ],
      "execution_count": null,
      "outputs": [
        {
          "output_type": "stream",
          "text": [
            "X:  10\n",
            "[[ 0  1]\n",
            " [ 2  3]\n",
            " [ 4  5]\n",
            " [ 6  7]\n",
            " [ 8  9]\n",
            " [10 11]\n",
            " [12 13]\n",
            " [14 15]\n",
            " [16 17]\n",
            " [18 19]]\n",
            "y:  10\n",
            "[0 1 2 3 4 5 6 7 8 9]\n"
          ],
          "name": "stdout"
        }
      ]
    },
    {
      "cell_type": "code",
      "metadata": {
        "colab": {
          "base_uri": "https://localhost:8080/"
        },
        "id": "i0B8dZ5PC_Cl",
        "outputId": "d54216c8-3687-4f3a-949b-07f99235fbe4"
      },
      "source": [
        "X_train, X_val_test, y_train, y_val_test = train_test_split(X,y, test_size=0.3, random_state=42)\n",
        "#random\n",
        "print(\"X_train:\",len(X_train))\n",
        "print(X_train)\n",
        "print(\"X_val_test:\",len(X_val_test))\n",
        "print(X_val_test)\n",
        "print(\"y_train:\",len(y_train))\n",
        "print(y_train)\n",
        "print(\"y_val_test:\",len(y_val_test))\n",
        "print(y_val_test)\n"
      ],
      "execution_count": null,
      "outputs": [
        {
          "output_type": "stream",
          "text": [
            "X_train: 7\n",
            "[[ 0  1]\n",
            " [14 15]\n",
            " [ 4  5]\n",
            " [18 19]\n",
            " [ 8  9]\n",
            " [ 6  7]\n",
            " [12 13]]\n",
            "X_val_test: 3\n",
            "[[16 17]\n",
            " [ 2  3]\n",
            " [10 11]]\n",
            "y_train: 7\n",
            "[0 7 2 9 4 3 6]\n",
            "y_val_test: 3\n",
            "[8 1 5]\n"
          ],
          "name": "stdout"
        }
      ]
    },
    {
      "cell_type": "code",
      "metadata": {
        "colab": {
          "base_uri": "https://localhost:8080/"
        },
        "id": "Tis-_0POE5mb",
        "outputId": "d1767e22-a77b-4538-cff6-ecc1843d97c8"
      },
      "source": [
        "X_val, X_test, y_val, y_test = train_test_split(X_val_test,y_val_test, test_size=0.5,random_state=42)\n",
        "#random\n",
        "print(\"X_val:\",len(X_val))\n",
        "print(X_val)\n",
        "print(\"X_val_test:\",len(X_test))\n",
        "print(X_test)\n",
        "print(\"y_val:\",len(y_val))\n",
        "print(y_val)\n",
        "print(\"y_val_test:\",len(y_test))\n",
        "print(y_test)"
      ],
      "execution_count": null,
      "outputs": [
        {
          "output_type": "stream",
          "text": [
            "X_val: 1\n",
            "[[10 11]]\n",
            "X_val_test: 2\n",
            "[[16 17]\n",
            " [ 2  3]]\n",
            "y_val: 1\n",
            "[5]\n",
            "y_val_test: 2\n",
            "[8 1]\n"
          ],
          "name": "stdout"
        }
      ]
    },
    {
      "cell_type": "code",
      "metadata": {
        "colab": {
          "base_uri": "https://localhost:8080/"
        },
        "id": "afGwvPj0GbB5",
        "outputId": "79a49792-484e-4c2e-80bb-013e482d80b1"
      },
      "source": [
        "from sklearn.model_selection import train_test_split\n",
        "X_train, X_val_and_test, Y_train, Y_val_and_test = train_test_split(X_scale, Y, test_size=0.3)\n",
        "X_val, X_test, Y_val, Y_test = train_test_split(X_val_and_test, Y_val_and_test, test_size=0.5)\n",
        "print(X_train.shape, X_val.shape, X_test.shape, y_train.shape, y_val.shape, y_test.shape)"
      ],
      "execution_count": null,
      "outputs": [
        {
          "output_type": "stream",
          "text": [
            "(209, 12) (45, 12) (45, 12) (7,) (1,) (2,)\n"
          ],
          "name": "stdout"
        }
      ]
    },
    {
      "cell_type": "markdown",
      "metadata": {
        "id": "vrpoZGdISmNg"
      },
      "source": [
        "## **Función de activación calcula la información de salida  de una neurona**"
      ]
    },
    {
      "cell_type": "code",
      "metadata": {
        "id": "cnyg4VBeIKJM"
      },
      "source": [
        "from keras.models import Sequential\n",
        "from keras.layers import Dense\n",
        "model = Sequential([\n",
        "                    #dos capas encondidas con 32 neuronas\n",
        "    Dense(32, activation='relu',input_shape=(12,)),\n",
        "    Dense(32, activation='relu'),\n",
        "    #resultado\n",
        "    Dense(1, activation='sigmoid'),\n",
        "])"
      ],
      "execution_count": null,
      "outputs": []
    },
    {
      "cell_type": "markdown",
      "metadata": {
        "id": "QLobYUPPTQAQ"
      },
      "source": [
        "## **Optimización del modelo, función de perdida: loss, función de exactitud: accuracy**"
      ]
    },
    {
      "cell_type": "code",
      "metadata": {
        "id": "W6I0-YDmJuUR"
      },
      "source": [
        "model.compile(optimizer='sgd',\n",
        "              loss='binary_crossentropy',\n",
        "              metrics=['accuracy'])"
      ],
      "execution_count": null,
      "outputs": []
    },
    {
      "cell_type": "code",
      "metadata": {
        "colab": {
          "base_uri": "https://localhost:8080/"
        },
        "id": "6F_htFIsMQPj",
        "outputId": "596dbec7-03d8-4e83-de18-29e767370e46"
      },
      "source": [
        "hist = model.fit(X_train, Y_train,\n",
        "                 batch_size=32, epochs=100,\n",
        "                 validation_data=(X_val, Y_val))"
      ],
      "execution_count": null,
      "outputs": [
        {
          "output_type": "stream",
          "text": [
            "Epoch 1/100\n",
            "7/7 [==============================] - 0s 24ms/step - loss: 0.6338 - accuracy: 0.6842 - val_loss: 0.6406 - val_accuracy: 0.6667\n",
            "Epoch 2/100\n",
            "7/7 [==============================] - 0s 4ms/step - loss: 0.6318 - accuracy: 0.6842 - val_loss: 0.6389 - val_accuracy: 0.6667\n",
            "Epoch 3/100\n",
            "7/7 [==============================] - 0s 4ms/step - loss: 0.6299 - accuracy: 0.6842 - val_loss: 0.6375 - val_accuracy: 0.6667\n",
            "Epoch 4/100\n",
            "7/7 [==============================] - 0s 4ms/step - loss: 0.6283 - accuracy: 0.6842 - val_loss: 0.6358 - val_accuracy: 0.6667\n",
            "Epoch 5/100\n",
            "7/7 [==============================] - 0s 4ms/step - loss: 0.6263 - accuracy: 0.6842 - val_loss: 0.6345 - val_accuracy: 0.6667\n",
            "Epoch 6/100\n",
            "7/7 [==============================] - 0s 3ms/step - loss: 0.6249 - accuracy: 0.6842 - val_loss: 0.6332 - val_accuracy: 0.6667\n",
            "Epoch 7/100\n",
            "7/7 [==============================] - 0s 4ms/step - loss: 0.6234 - accuracy: 0.6842 - val_loss: 0.6320 - val_accuracy: 0.6667\n",
            "Epoch 8/100\n",
            "7/7 [==============================] - 0s 4ms/step - loss: 0.6222 - accuracy: 0.6842 - val_loss: 0.6309 - val_accuracy: 0.6667\n",
            "Epoch 9/100\n",
            "7/7 [==============================] - 0s 5ms/step - loss: 0.6214 - accuracy: 0.6842 - val_loss: 0.6300 - val_accuracy: 0.6667\n",
            "Epoch 10/100\n",
            "7/7 [==============================] - 0s 4ms/step - loss: 0.6201 - accuracy: 0.6842 - val_loss: 0.6291 - val_accuracy: 0.6667\n",
            "Epoch 11/100\n",
            "7/7 [==============================] - 0s 4ms/step - loss: 0.6191 - accuracy: 0.6842 - val_loss: 0.6283 - val_accuracy: 0.6667\n",
            "Epoch 12/100\n",
            "7/7 [==============================] - 0s 4ms/step - loss: 0.6183 - accuracy: 0.6842 - val_loss: 0.6273 - val_accuracy: 0.6667\n",
            "Epoch 13/100\n",
            "7/7 [==============================] - 0s 4ms/step - loss: 0.6173 - accuracy: 0.6842 - val_loss: 0.6266 - val_accuracy: 0.6667\n",
            "Epoch 14/100\n",
            "7/7 [==============================] - 0s 4ms/step - loss: 0.6166 - accuracy: 0.6842 - val_loss: 0.6258 - val_accuracy: 0.6667\n",
            "Epoch 15/100\n",
            "7/7 [==============================] - 0s 4ms/step - loss: 0.6156 - accuracy: 0.6842 - val_loss: 0.6249 - val_accuracy: 0.6667\n",
            "Epoch 16/100\n",
            "7/7 [==============================] - 0s 4ms/step - loss: 0.6147 - accuracy: 0.6842 - val_loss: 0.6242 - val_accuracy: 0.6667\n",
            "Epoch 17/100\n",
            "7/7 [==============================] - 0s 4ms/step - loss: 0.6139 - accuracy: 0.6842 - val_loss: 0.6235 - val_accuracy: 0.6667\n",
            "Epoch 18/100\n",
            "7/7 [==============================] - 0s 4ms/step - loss: 0.6130 - accuracy: 0.6842 - val_loss: 0.6228 - val_accuracy: 0.6667\n",
            "Epoch 19/100\n",
            "7/7 [==============================] - 0s 5ms/step - loss: 0.6123 - accuracy: 0.6842 - val_loss: 0.6222 - val_accuracy: 0.6667\n",
            "Epoch 20/100\n",
            "7/7 [==============================] - 0s 4ms/step - loss: 0.6116 - accuracy: 0.6842 - val_loss: 0.6215 - val_accuracy: 0.6667\n",
            "Epoch 21/100\n",
            "7/7 [==============================] - 0s 4ms/step - loss: 0.6107 - accuracy: 0.6842 - val_loss: 0.6208 - val_accuracy: 0.6667\n",
            "Epoch 22/100\n",
            "7/7 [==============================] - 0s 4ms/step - loss: 0.6102 - accuracy: 0.6842 - val_loss: 0.6202 - val_accuracy: 0.6667\n",
            "Epoch 23/100\n",
            "7/7 [==============================] - 0s 4ms/step - loss: 0.6094 - accuracy: 0.6842 - val_loss: 0.6196 - val_accuracy: 0.6667\n",
            "Epoch 24/100\n",
            "7/7 [==============================] - 0s 4ms/step - loss: 0.6088 - accuracy: 0.6842 - val_loss: 0.6191 - val_accuracy: 0.6667\n",
            "Epoch 25/100\n",
            "7/7 [==============================] - 0s 4ms/step - loss: 0.6081 - accuracy: 0.6842 - val_loss: 0.6185 - val_accuracy: 0.6667\n",
            "Epoch 26/100\n",
            "7/7 [==============================] - 0s 4ms/step - loss: 0.6073 - accuracy: 0.6842 - val_loss: 0.6179 - val_accuracy: 0.6667\n",
            "Epoch 27/100\n",
            "7/7 [==============================] - 0s 4ms/step - loss: 0.6067 - accuracy: 0.6842 - val_loss: 0.6174 - val_accuracy: 0.6667\n",
            "Epoch 28/100\n",
            "7/7 [==============================] - 0s 4ms/step - loss: 0.6060 - accuracy: 0.6842 - val_loss: 0.6169 - val_accuracy: 0.6667\n",
            "Epoch 29/100\n",
            "7/7 [==============================] - 0s 4ms/step - loss: 0.6053 - accuracy: 0.6842 - val_loss: 0.6163 - val_accuracy: 0.6667\n",
            "Epoch 30/100\n",
            "7/7 [==============================] - 0s 4ms/step - loss: 0.6050 - accuracy: 0.6842 - val_loss: 0.6158 - val_accuracy: 0.6667\n",
            "Epoch 31/100\n",
            "7/7 [==============================] - 0s 4ms/step - loss: 0.6043 - accuracy: 0.6842 - val_loss: 0.6152 - val_accuracy: 0.6667\n",
            "Epoch 32/100\n",
            "7/7 [==============================] - 0s 4ms/step - loss: 0.6036 - accuracy: 0.6842 - val_loss: 0.6146 - val_accuracy: 0.6667\n",
            "Epoch 33/100\n",
            "7/7 [==============================] - 0s 4ms/step - loss: 0.6031 - accuracy: 0.6842 - val_loss: 0.6140 - val_accuracy: 0.6667\n",
            "Epoch 34/100\n",
            "7/7 [==============================] - 0s 4ms/step - loss: 0.6025 - accuracy: 0.6842 - val_loss: 0.6135 - val_accuracy: 0.6667\n",
            "Epoch 35/100\n",
            "7/7 [==============================] - 0s 4ms/step - loss: 0.6018 - accuracy: 0.6842 - val_loss: 0.6130 - val_accuracy: 0.6667\n",
            "Epoch 36/100\n",
            "7/7 [==============================] - 0s 4ms/step - loss: 0.6012 - accuracy: 0.6842 - val_loss: 0.6124 - val_accuracy: 0.6667\n",
            "Epoch 37/100\n",
            "7/7 [==============================] - 0s 4ms/step - loss: 0.6008 - accuracy: 0.6842 - val_loss: 0.6119 - val_accuracy: 0.6667\n",
            "Epoch 38/100\n",
            "7/7 [==============================] - 0s 4ms/step - loss: 0.6002 - accuracy: 0.6842 - val_loss: 0.6114 - val_accuracy: 0.6667\n",
            "Epoch 39/100\n",
            "7/7 [==============================] - 0s 4ms/step - loss: 0.5997 - accuracy: 0.6842 - val_loss: 0.6109 - val_accuracy: 0.6667\n",
            "Epoch 40/100\n",
            "7/7 [==============================] - 0s 4ms/step - loss: 0.5991 - accuracy: 0.6842 - val_loss: 0.6104 - val_accuracy: 0.6667\n",
            "Epoch 41/100\n",
            "7/7 [==============================] - 0s 4ms/step - loss: 0.5986 - accuracy: 0.6842 - val_loss: 0.6100 - val_accuracy: 0.6667\n",
            "Epoch 42/100\n",
            "7/7 [==============================] - 0s 4ms/step - loss: 0.5981 - accuracy: 0.6842 - val_loss: 0.6095 - val_accuracy: 0.6667\n",
            "Epoch 43/100\n",
            "7/7 [==============================] - 0s 4ms/step - loss: 0.5975 - accuracy: 0.6842 - val_loss: 0.6091 - val_accuracy: 0.6667\n",
            "Epoch 44/100\n",
            "7/7 [==============================] - 0s 4ms/step - loss: 0.5970 - accuracy: 0.6842 - val_loss: 0.6086 - val_accuracy: 0.6667\n",
            "Epoch 45/100\n",
            "7/7 [==============================] - 0s 4ms/step - loss: 0.5965 - accuracy: 0.6842 - val_loss: 0.6081 - val_accuracy: 0.6667\n",
            "Epoch 46/100\n",
            "7/7 [==============================] - 0s 4ms/step - loss: 0.5959 - accuracy: 0.6842 - val_loss: 0.6077 - val_accuracy: 0.6667\n",
            "Epoch 47/100\n",
            "7/7 [==============================] - 0s 4ms/step - loss: 0.5954 - accuracy: 0.6842 - val_loss: 0.6072 - val_accuracy: 0.6667\n",
            "Epoch 48/100\n",
            "7/7 [==============================] - 0s 4ms/step - loss: 0.5951 - accuracy: 0.6842 - val_loss: 0.6067 - val_accuracy: 0.6667\n",
            "Epoch 49/100\n",
            "7/7 [==============================] - 0s 4ms/step - loss: 0.5946 - accuracy: 0.6842 - val_loss: 0.6062 - val_accuracy: 0.6667\n",
            "Epoch 50/100\n",
            "7/7 [==============================] - 0s 4ms/step - loss: 0.5939 - accuracy: 0.6842 - val_loss: 0.6058 - val_accuracy: 0.6667\n",
            "Epoch 51/100\n",
            "7/7 [==============================] - 0s 4ms/step - loss: 0.5934 - accuracy: 0.6842 - val_loss: 0.6053 - val_accuracy: 0.6667\n",
            "Epoch 52/100\n",
            "7/7 [==============================] - 0s 4ms/step - loss: 0.5929 - accuracy: 0.6842 - val_loss: 0.6048 - val_accuracy: 0.6667\n",
            "Epoch 53/100\n",
            "7/7 [==============================] - 0s 5ms/step - loss: 0.5923 - accuracy: 0.6842 - val_loss: 0.6043 - val_accuracy: 0.6667\n",
            "Epoch 54/100\n",
            "7/7 [==============================] - 0s 4ms/step - loss: 0.5919 - accuracy: 0.6842 - val_loss: 0.6039 - val_accuracy: 0.6667\n",
            "Epoch 55/100\n",
            "7/7 [==============================] - 0s 4ms/step - loss: 0.5913 - accuracy: 0.6842 - val_loss: 0.6034 - val_accuracy: 0.6667\n",
            "Epoch 56/100\n",
            "7/7 [==============================] - 0s 4ms/step - loss: 0.5910 - accuracy: 0.6842 - val_loss: 0.6029 - val_accuracy: 0.6667\n",
            "Epoch 57/100\n",
            "7/7 [==============================] - 0s 4ms/step - loss: 0.5903 - accuracy: 0.6842 - val_loss: 0.6024 - val_accuracy: 0.6667\n",
            "Epoch 58/100\n",
            "7/7 [==============================] - 0s 4ms/step - loss: 0.5898 - accuracy: 0.6842 - val_loss: 0.6019 - val_accuracy: 0.6667\n",
            "Epoch 59/100\n",
            "7/7 [==============================] - 0s 4ms/step - loss: 0.5893 - accuracy: 0.6842 - val_loss: 0.6015 - val_accuracy: 0.6667\n",
            "Epoch 60/100\n",
            "7/7 [==============================] - 0s 4ms/step - loss: 0.5888 - accuracy: 0.6842 - val_loss: 0.6010 - val_accuracy: 0.6667\n",
            "Epoch 61/100\n",
            "7/7 [==============================] - 0s 4ms/step - loss: 0.5883 - accuracy: 0.6842 - val_loss: 0.6004 - val_accuracy: 0.6667\n",
            "Epoch 62/100\n",
            "7/7 [==============================] - 0s 4ms/step - loss: 0.5880 - accuracy: 0.6842 - val_loss: 0.6000 - val_accuracy: 0.6667\n",
            "Epoch 63/100\n",
            "7/7 [==============================] - 0s 4ms/step - loss: 0.5871 - accuracy: 0.6842 - val_loss: 0.5995 - val_accuracy: 0.6667\n",
            "Epoch 64/100\n",
            "7/7 [==============================] - 0s 4ms/step - loss: 0.5867 - accuracy: 0.6842 - val_loss: 0.5989 - val_accuracy: 0.6667\n",
            "Epoch 65/100\n",
            "7/7 [==============================] - 0s 4ms/step - loss: 0.5863 - accuracy: 0.6842 - val_loss: 0.5983 - val_accuracy: 0.6667\n",
            "Epoch 66/100\n",
            "7/7 [==============================] - 0s 5ms/step - loss: 0.5858 - accuracy: 0.6842 - val_loss: 0.5978 - val_accuracy: 0.6667\n",
            "Epoch 67/100\n",
            "7/7 [==============================] - 0s 5ms/step - loss: 0.5851 - accuracy: 0.6842 - val_loss: 0.5973 - val_accuracy: 0.6667\n",
            "Epoch 68/100\n",
            "7/7 [==============================] - 0s 4ms/step - loss: 0.5845 - accuracy: 0.6842 - val_loss: 0.5968 - val_accuracy: 0.6667\n",
            "Epoch 69/100\n",
            "7/7 [==============================] - 0s 4ms/step - loss: 0.5844 - accuracy: 0.6842 - val_loss: 0.5963 - val_accuracy: 0.6667\n",
            "Epoch 70/100\n",
            "7/7 [==============================] - 0s 4ms/step - loss: 0.5835 - accuracy: 0.6842 - val_loss: 0.5958 - val_accuracy: 0.6667\n",
            "Epoch 71/100\n",
            "7/7 [==============================] - 0s 4ms/step - loss: 0.5829 - accuracy: 0.6842 - val_loss: 0.5952 - val_accuracy: 0.6667\n",
            "Epoch 72/100\n",
            "7/7 [==============================] - 0s 4ms/step - loss: 0.5824 - accuracy: 0.6842 - val_loss: 0.5947 - val_accuracy: 0.6667\n",
            "Epoch 73/100\n",
            "7/7 [==============================] - 0s 4ms/step - loss: 0.5818 - accuracy: 0.6842 - val_loss: 0.5941 - val_accuracy: 0.6667\n",
            "Epoch 74/100\n",
            "7/7 [==============================] - 0s 4ms/step - loss: 0.5813 - accuracy: 0.6842 - val_loss: 0.5936 - val_accuracy: 0.6667\n",
            "Epoch 75/100\n",
            "7/7 [==============================] - 0s 5ms/step - loss: 0.5810 - accuracy: 0.6842 - val_loss: 0.5932 - val_accuracy: 0.6667\n",
            "Epoch 76/100\n",
            "7/7 [==============================] - 0s 4ms/step - loss: 0.5805 - accuracy: 0.6842 - val_loss: 0.5926 - val_accuracy: 0.6667\n",
            "Epoch 77/100\n",
            "7/7 [==============================] - 0s 4ms/step - loss: 0.5796 - accuracy: 0.6842 - val_loss: 0.5920 - val_accuracy: 0.6667\n",
            "Epoch 78/100\n",
            "7/7 [==============================] - 0s 5ms/step - loss: 0.5793 - accuracy: 0.6842 - val_loss: 0.5915 - val_accuracy: 0.6667\n",
            "Epoch 79/100\n",
            "7/7 [==============================] - 0s 5ms/step - loss: 0.5788 - accuracy: 0.6842 - val_loss: 0.5909 - val_accuracy: 0.6667\n",
            "Epoch 80/100\n",
            "7/7 [==============================] - 0s 4ms/step - loss: 0.5780 - accuracy: 0.6842 - val_loss: 0.5904 - val_accuracy: 0.6667\n",
            "Epoch 81/100\n",
            "7/7 [==============================] - 0s 4ms/step - loss: 0.5775 - accuracy: 0.6842 - val_loss: 0.5899 - val_accuracy: 0.6667\n",
            "Epoch 82/100\n",
            "7/7 [==============================] - 0s 5ms/step - loss: 0.5768 - accuracy: 0.6842 - val_loss: 0.5893 - val_accuracy: 0.6667\n",
            "Epoch 83/100\n",
            "7/7 [==============================] - 0s 3ms/step - loss: 0.5762 - accuracy: 0.6842 - val_loss: 0.5887 - val_accuracy: 0.6667\n",
            "Epoch 84/100\n",
            "7/7 [==============================] - 0s 4ms/step - loss: 0.5759 - accuracy: 0.6842 - val_loss: 0.5882 - val_accuracy: 0.6667\n",
            "Epoch 85/100\n",
            "7/7 [==============================] - 0s 4ms/step - loss: 0.5751 - accuracy: 0.6842 - val_loss: 0.5876 - val_accuracy: 0.6667\n",
            "Epoch 86/100\n",
            "7/7 [==============================] - 0s 4ms/step - loss: 0.5746 - accuracy: 0.6842 - val_loss: 0.5870 - val_accuracy: 0.6667\n",
            "Epoch 87/100\n",
            "7/7 [==============================] - 0s 4ms/step - loss: 0.5742 - accuracy: 0.6842 - val_loss: 0.5865 - val_accuracy: 0.6667\n",
            "Epoch 88/100\n",
            "7/7 [==============================] - 0s 5ms/step - loss: 0.5733 - accuracy: 0.6842 - val_loss: 0.5859 - val_accuracy: 0.6667\n",
            "Epoch 89/100\n",
            "7/7 [==============================] - 0s 4ms/step - loss: 0.5729 - accuracy: 0.6842 - val_loss: 0.5853 - val_accuracy: 0.6667\n",
            "Epoch 90/100\n",
            "7/7 [==============================] - 0s 4ms/step - loss: 0.5721 - accuracy: 0.6842 - val_loss: 0.5848 - val_accuracy: 0.6667\n",
            "Epoch 91/100\n",
            "7/7 [==============================] - 0s 4ms/step - loss: 0.5714 - accuracy: 0.6842 - val_loss: 0.5842 - val_accuracy: 0.6667\n",
            "Epoch 92/100\n",
            "7/7 [==============================] - 0s 4ms/step - loss: 0.5709 - accuracy: 0.6842 - val_loss: 0.5837 - val_accuracy: 0.6667\n",
            "Epoch 93/100\n",
            "7/7 [==============================] - 0s 4ms/step - loss: 0.5703 - accuracy: 0.6842 - val_loss: 0.5830 - val_accuracy: 0.6667\n",
            "Epoch 94/100\n",
            "7/7 [==============================] - 0s 4ms/step - loss: 0.5699 - accuracy: 0.6842 - val_loss: 0.5824 - val_accuracy: 0.6667\n",
            "Epoch 95/100\n",
            "7/7 [==============================] - 0s 5ms/step - loss: 0.5693 - accuracy: 0.6842 - val_loss: 0.5817 - val_accuracy: 0.6667\n",
            "Epoch 96/100\n",
            "7/7 [==============================] - 0s 4ms/step - loss: 0.5684 - accuracy: 0.6842 - val_loss: 0.5811 - val_accuracy: 0.6667\n",
            "Epoch 97/100\n",
            "7/7 [==============================] - 0s 5ms/step - loss: 0.5681 - accuracy: 0.6842 - val_loss: 0.5806 - val_accuracy: 0.6667\n",
            "Epoch 98/100\n",
            "7/7 [==============================] - 0s 4ms/step - loss: 0.5671 - accuracy: 0.6842 - val_loss: 0.5799 - val_accuracy: 0.6667\n",
            "Epoch 99/100\n",
            "7/7 [==============================] - 0s 4ms/step - loss: 0.5665 - accuracy: 0.6842 - val_loss: 0.5793 - val_accuracy: 0.6667\n",
            "Epoch 100/100\n",
            "7/7 [==============================] - 0s 4ms/step - loss: 0.5658 - accuracy: 0.6842 - val_loss: 0.5786 - val_accuracy: 0.6667\n"
          ],
          "name": "stdout"
        }
      ]
    },
    {
      "cell_type": "code",
      "metadata": {
        "colab": {
          "base_uri": "https://localhost:8080/"
        },
        "id": "ekw0_MG4Nppf",
        "outputId": "9d0100b6-c4f1-4fe5-c637-c08b0df0a571"
      },
      "source": [
        "model.evaluate(X_test, Y_test)[1]"
      ],
      "execution_count": null,
      "outputs": [
        {
          "output_type": "stream",
          "text": [
            "2/2 [==============================] - 0s 3ms/step - loss: 0.5751 - accuracy: 0.6667\n"
          ],
          "name": "stdout"
        },
        {
          "output_type": "execute_result",
          "data": {
            "text/plain": [
              "0.6666666865348816"
            ]
          },
          "metadata": {
            "tags": []
          },
          "execution_count": 16
        }
      ]
    }
  ]
}